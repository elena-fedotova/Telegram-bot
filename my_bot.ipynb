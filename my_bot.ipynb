{
 "metadata": {
  "name": "",
  "signature": "sha256:97ef0f8832df96880e83d1a750afe0b76556e2c0c30b12d9af3abeff89fe5882"
 },
 "nbformat": 3,
 "nbformat_minor": 0,
 "worksheets": [
  {
   "cells": [
    {
     "cell_type": "markdown",
     "metadata": {},
     "source": [
      "\u041c\u043e\u0439 \u0431\u043e\u0442 \u043f\u043e \u043d\u0430\u0437\u0432\u0430\u043d\u0438\u044e \u043c\u0435\u0442\u0430\u043b\u043b\u0438\u0447\u0435\u0441\u043a\u043e\u0439 \u0433\u0440\u0443\u043f\u043f\u044b \u0432\u044b\u0432\u043e\u0434 \u0432\u0441\u0435 \u0435\u0451 \u0430\u043b\u044c\u0431\u043e\u043c\u044b, \u0430 \u0442\u0430\u043a\u0436\u0435 \u043f\u043e \u043d\u0430\u0437\u0432\u0430\u043d\u0438\u044e \u0430\u043b\u044c\u0431\u043e\u043c\u0430 \u0432\u043e\u0437\u0432\u0440\u0430\u0449\u0430\u0435\u0442 \u043d\u0430\u0437\u0432\u0430\u043d\u0438\u0435 \u0432\u0441\u0435\u0445 \u0433\u0440\u0443\u043f\u043f \u0436\u0430\u043d\u0440\u0430 \u043c\u0435\u0442\u0430\u043b\u043b, \u043a\u043e\u0442\u043e\u0440\u044b\u0435 \u0432\u044b\u043f\u0443\u0441\u0442\u0438\u043b\u0438 \u0430\u043b\u044c\u0431\u043e\u043c \u0441 \u0442\u0430\u043a\u0438\u043c \u043d\u0430\u0437\u0432\u0430\u043d\u0438\u0435\u043c."
     ]
    },
    {
     "cell_type": "markdown",
     "metadata": {},
     "source": [
      "\u0414\u043b\u044f \u043d\u0430\u0447\u0430\u043b\u0430 \u0441\u043e\u0431\u0435\u0440\u0451\u043c \u0434\u0430\u043d\u043d\u044b\u0435. \u042f \u0438\u0441\u043f\u043e\u043b\u044c\u0437\u043e\u0432\u0430\u043b\u0430 \u0440\u0435\u0441\u0443\u0440\u0441 **Encyclopaedia Metallum** (http://www.metal-archives.com/) \u0434\u043b\u044f \u0441\u043e\u0437\u0434\u0430\u043d\u0438\u044f \u0441\u043b\u043e\u0432\u0430\u0440\u044f ```\u0433\u0440\u0443\u043f\u043f\u0430: \u0430\u043b\u044c\u0431\u043e\u043c\u044b```."
     ]
    },
    {
     "cell_type": "code",
     "collapsed": false,
     "input": [
      "from bs4 import BeautifulSoup\n",
      "import urllib2\n",
      "import re\n",
      "from urllib2 import URLError\n",
      "from collections import defaultdict\n",
      "\n",
      "import cPickle\n",
      "\n",
      "from telegram import Updater"
     ],
     "language": "python",
     "metadata": {},
     "outputs": []
    },
    {
     "cell_type": "code",
     "collapsed": false,
     "input": [
      "def metal_harvest(artist_range):\n",
      "    all_albums = defaultdict(list)\n",
      "    for artist in artist_range:\n",
      "        # Open artist's page\n",
      "        band_url = 'http://www.metal-archives.com/bands/Amorphis/' + str(artist)\n",
      "        try: band_page = urllib2.urlopen(band_url)\n",
      "        except URLError:\n",
      "            continue\n",
      "        else:\n",
      "            band_soup = BeautifulSoup(band_page.read())\n",
      "            full_name = band_soup.title.string\n",
      "            band_name = full_name.split(' - ')[0]\n",
      "            # Open album's page\n",
      "            url = 'http://www.metal-archives.com/band/discography/id/' +\\\n",
      "                str(artist) + '/tab/all'\n",
      "            try: page = urllib2.urlopen(url)\n",
      "            except URLError:\n",
      "                continue\n",
      "            else:\n",
      "                soup = BeautifulSoup(page.read())\n",
      "                table = soup.find('table')\n",
      "\n",
      "                table_body = table.find('tbody')\n",
      "\n",
      "                rows = table_body.find_all('tr')\n",
      "                for row in rows:\n",
      "                    cols = row.find_all('td')\n",
      "                    cols = [ele.text.strip() for ele in cols]\n",
      "                    all_albums[band_name].append(cols[0])\n",
      "    return all_albums\n",
      "\n",
      "my_range = range(10000)\n",
      "the_albums = metal_harvest(my_range)"
     ],
     "language": "python",
     "metadata": {},
     "outputs": []
    },
    {
     "cell_type": "markdown",
     "metadata": {},
     "source": [
      "\u0421\u043e\u0445\u0440\u0430\u043d\u0438\u043c \u0430\u0440\u0445\u0438\u0432 \u043d\u0430 \u0434\u0438\u0441\u043a, \u0447\u0442\u043e\u0431\u044b \u0432 \u0441\u043b\u0435\u0434\u0443\u044e\u0449\u0438\u0439 \u0440\u0430\u0437 \u043d\u0435 \u0441\u043e\u0431\u0438\u0440\u0430\u0442\u044c \u0434\u043e\u043b\u0433\u043e \u0438 \u043c\u0443\u0447\u0438\u0442\u0435\u043b\u044c\u043d\u043e \u0438\u043d\u0444\u043e\u0440\u043c\u0430\u0446\u0438\u044e."
     ]
    },
    {
     "cell_type": "code",
     "collapsed": false,
     "input": [
      "output = open(r'C:\\shad\\Python\\homework4\\album_corpus.txt', 'wb')\n",
      "cPickle.dump(the_albums, output)\n",
      "output.close()"
     ],
     "language": "python",
     "metadata": {},
     "outputs": []
    },
    {
     "cell_type": "markdown",
     "metadata": {},
     "source": [
      "\u0422\u0435\u043f\u0435\u0440\u044c \u0437\u0430\u0433\u0440\u0443\u0437\u0438\u043c \u0430\u0440\u0445\u0438\u0432 \u0441 \u0434\u0438\u0441\u043a\u0430:"
     ]
    },
    {
     "cell_type": "code",
     "collapsed": false,
     "input": [
      "the_albums = cPickle.load(open(r'C:\\shad\\Python\\homework4\\album_corpus.txt', 'rb'))"
     ],
     "language": "python",
     "metadata": {},
     "outputs": []
    },
    {
     "cell_type": "markdown",
     "metadata": {},
     "source": [
      "\u0422\u0435\u043f\u0435\u0440\u044c \u043f\u0440\u0438\u0441\u0442\u0443\u043f\u0438\u043c \u043d\u0435\u043f\u043e\u0441\u0440\u0435\u0434\u0441\u0442\u0432\u0435\u043d\u043d\u043e \u043a \u0440\u0430\u0431\u043e\u0442\u0435 \u0441 \u0431\u043e\u0442\u043e\u043c"
     ]
    },
    {
     "cell_type": "code",
     "collapsed": false,
     "input": [
      "updater = Updater(token='91670989:AAFYjrQTe9kt0cR7oXOZFVT5Zek5noyt9aE')\n",
      "dispatcher = updater.dispatcher"
     ],
     "language": "python",
     "metadata": {},
     "outputs": []
    },
    {
     "cell_type": "markdown",
     "metadata": {},
     "source": [
      "\u0421\u043b\u0435\u0434\u0443\u044e\u0449\u0430\u044f \u0444\u0443\u043d\u043a\u0446\u0438\u044f \u043a\u0430\u043a \u0440\u0430\u0437 \u0442\u0430\u043a\u0438 \u0438 \u043f\u043e\u0437\u0432\u043e\u043b\u044f\u0435\u0442 \u0431\u043e\u0442\u0443 \u0434\u0430\u0432\u0430\u0442\u044c \u0443\u043c\u043d\u044b\u0435 \u043e\u0442\u0432\u0435\u0442\u044b \u043d\u0430 \u0437\u0430\u043f\u0440\u043e\u0441\u044b:"
     ]
    },
    {
     "cell_type": "code",
     "collapsed": false,
     "input": [
      "def metal_reply(bot, update):\n",
      "    if update.message.text in the_albums:\n",
      "        bot.sendMessage(chat_id=update.message.chat_id, \n",
      "                        text='The artist has published the following albums:')\n",
      "        for album in the_albums[update.message.text]:\n",
      "            bot.sendMessage(chat_id=update.message.chat_id, text=album)\n",
      "    else:\n",
      "        bot.sendMessage(chat_id=update.message.chat_id,\n",
      "                        text='No true metallist has ever chosen such a name!')\n",
      "    matches = 0\n",
      "    bot.sendMessage(chat_id=update.message.chat_id, \n",
      "                    text='The following artists have published so named albums:')\n",
      "    for band, albums in the_albums.iteritems():\n",
      "        for album in albums:\n",
      "            if unicode(update.message.text) == album:\n",
      "                bot.sendMessage(chat_id=update.message.chat_id, text=band)\n",
      "                matches += 1\n",
      "    if matches == 0:\n",
      "        bot.sendMessage(chat_id=update.message.chat_id, \n",
      "                        text='No true metallist has ever pulished an album with such a name!')\n",
      "\n",
      "dispatcher.addTelegramMessageHandler(metal_reply)"
     ],
     "language": "python",
     "metadata": {},
     "outputs": []
    },
    {
     "cell_type": "code",
     "collapsed": false,
     "input": [
      "updater.start_polling()"
     ],
     "language": "python",
     "metadata": {},
     "outputs": []
    }
   ],
   "metadata": {}
  }
 ]
}
